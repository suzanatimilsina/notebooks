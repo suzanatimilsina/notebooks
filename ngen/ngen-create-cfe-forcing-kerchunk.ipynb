{
 "cells": [
  {
   "cell_type": "markdown",
   "id": "2f45d1d3-2ce5-487c-8d89-a2e0ec3870ec",
   "metadata": {},
   "source": [
    "# Prepare Basin Averaged Forcing for NGEN\n",
    "\n",
    "**Authors:**  \n",
    "   - Tony Castronova <acastronova@cuahsi.org>    \n",
    "   - Irene Garousi-Nejad <igarousi@cuahsi.org>  \n",
    "    \n",
    "**Last Updated:** 06.21.2023   \n",
    "\n",
    "**Description**:  \n",
    "\n",
    "The purpose of this Jupyter Notebook is to demonstrate how to prepare basin averaged forcing input from for the [NOAA Next Generation (NextGen) Water Resource Modeling Framework](https://github.com/NOAA-OWP/ngen). This notebook demonstrates how these data can be prepared from AORC **v1.0** kerchunk header files.\n",
    "\n",
    "**Link to data**:\n",
    "- Original: https://noaa-nwm-retrospective-2-1-pds.s3.amazonaws.com/index.html#forcing/\n",
    "- Kerchunk: https://ciroh-nwm-zarr-retrospective-data-copy.s3.amazonaws.com/index.html#noaa-nwm-retrospective-2-1-zarr-pds/\n",
    "\n",
    "**Software Requirements**:  \n",
    "\n",
    "The software and operating system versions used to develop this notebook are listed below. To avoid encountering issues related to version conflicts among Python packages, we recommend creating a new environment variable and installing the required packages specifically for this notebook.\n",
    "\n",
    "Tested on: Windows (`python: 3.9.16`) \n",
    "\n",
    "> dask: 2023.5.1 \\\n",
    "  numpy: 1.24.3 \\\n",
    "    xarray: 2023.5.0 \\\n",
    "    pyproj: 3.5.0 \\\n",
    "    pandas: 2.0.2 \\\n",
    "    requests: 2.31.0 \\\n",
    "    geopandas: 0.13.2 \\\n",
    "    matplotlib: 3.7.1 \\\n",
    "    zarr: 2.15.0 \\\n",
    "    fsspec: 2023.6.0 \\\n",
    "    s3fs: 2023.6.0 \\\n",
    "    kerchunk:0.1.2 \n",
    "    \n",
    "---"
   ]
  },
  {
   "cell_type": "code",
   "execution_count": null,
   "id": "74c353a2-226b-4dfb-8db4-c2fbcadb2bf4",
   "metadata": {
    "tags": []
   },
   "outputs": [],
   "source": [
    "import re\n",
    "import dask\n",
    "import numpy\n",
    "import xarray\n",
    "import pyproj\n",
    "import pandas\n",
    "import requests\n",
    "import geopandas\n",
    "from matplotlib import colors\n",
    "import matplotlib.pyplot as plt\n",
    "from dask.distributed import Client\n",
    "from dask.distributed import progress\n",
    "\n",
    "import zarr\n",
    "import fsspec\n",
    "from pyproj import Transformer\n",
    "from s3fs import S3FileSystem\n",
    "from kerchunk.combine import MultiZarrToZarr"
   ]
  },
  {
   "cell_type": "code",
   "execution_count": null,
   "id": "8a1fa0c4-345c-4b08-aa00-9e306f6799e2",
   "metadata": {
    "tags": []
   },
   "outputs": [],
   "source": [
    "# install rioxarray and geocube\n",
    "!pip install rioxarray -q\n",
    "!pip install geocube -q"
   ]
  },
  {
   "cell_type": "code",
   "execution_count": null,
   "id": "197a3453-7d15-4513-addc-9003638ee5ce",
   "metadata": {
    "tags": []
   },
   "outputs": [],
   "source": [
    "import rioxarray\n",
    "from geocube.api.core import make_geocube"
   ]
  },
  {
   "cell_type": "markdown",
   "id": "79279a53-22ae-40cc-a05c-67188f18ccc4",
   "metadata": {},
   "source": [
    "Initiate the Dask client. This will enable us to parallelize our computations."
   ]
  },
  {
   "cell_type": "code",
   "execution_count": null,
   "id": "005eb820-57c2-4ad6-81e8-26ed37d4f075",
   "metadata": {
    "tags": []
   },
   "outputs": [],
   "source": [
    "# use a try accept loop so we only instantiate the client\n",
    "# if it doesn't already exist.\n",
    "try:\n",
    "    print(client.dashboard_link)\n",
    "except:    \n",
    "    # The client should be customized to your workstation resources.\n",
    "    client = Client(n_workers=6, memory_limit='2GB') # per worker\n",
    "    print(client.dashboard_link)\n"
   ]
  },
  {
   "cell_type": "markdown",
   "id": "bc4dc74c-01a2-4fef-bdfe-f021de978be4",
   "metadata": {},
   "source": [
    "---"
   ]
  },
  {
   "cell_type": "markdown",
   "id": "292bb9cd-cf11-4089-accb-fd50b1a99230",
   "metadata": {},
   "source": [
    "## Load Forcing Data into Memory\n",
    "\n",
    "In this notebook we'll be working with AORC v1.0 meteorological forcing. These data are publicly available for the entire CONUS, spanning from 1980 to 2020. Kerchunk header files have been created by the Alabama Water Institute team and this is an ongoing project. Please note that this jupyter notebook works for data within 2007-2019, but it cannot work with data prior to 2006.  "
   ]
  },
  {
   "cell_type": "code",
   "execution_count": null,
   "id": "42025c18-adc1-46b3-b06d-beb030eb8c71",
   "metadata": {
    "tags": []
   },
   "outputs": [],
   "source": [
    "# define the selected watershed boundary \n",
    "wb_id = 'wb-2620227'\n",
    "\n",
    "# define the year of interest\n",
    "year=2010"
   ]
  },
  {
   "cell_type": "code",
   "execution_count": null,
   "id": "9260b9af-49c7-4619-ac6d-3cd839062a19",
   "metadata": {
    "tags": []
   },
   "outputs": [],
   "source": [
    "bucket = 's3://ciroh-nwm-zarr-retrospective-data-copy/noaa-nwm-retrospective-2-1-zarr-pds/forcing/'\n",
    "\n",
    "# create an instace of the S3FileSystem class from s3fs\n",
    "s3 = S3FileSystem(anon=True)\n",
    "files = s3.ls(f'{bucket}{year}')  \n",
    "\n",
    "new_files = []\n",
    "for f in files:\n",
    "    parts = f.split('/')\n",
    "    parts[0] += '.s3.amazonaws.com'\n",
    "    parts.insert(0, 'https:/')\n",
    "    new_name = '/'.join(parts)\n",
    "    new_files.append(new_name)\n",
    "    "
   ]
  },
  {
   "cell_type": "code",
   "execution_count": null,
   "id": "d769023a-14ce-487a-84d3-08c104b81d9e",
   "metadata": {
    "tags": []
   },
   "outputs": [],
   "source": [
    "print(len(new_files))\n",
    "new_files[0]"
   ]
  },
  {
   "cell_type": "markdown",
   "id": "3d844701-3063-407c-829e-589cadcb4f9c",
   "metadata": {},
   "source": [
    "Considering the memory limitations, it is necessary to choose a smaller subset of the dataset. Afterwards, we can utilize the `MultiZarrToZarr` function from the kerchunk library to merge the individual header files and generate a single kerchunk file."
   ]
  },
  {
   "cell_type": "code",
   "execution_count": null,
   "id": "91c1e0db-f5cd-42d0-b962-65d8304d4a21",
   "metadata": {
    "tags": []
   },
   "outputs": [],
   "source": [
    "%%time\n",
    "json_list = new_files[0:217] \n",
    "\n",
    "mzz = MultiZarrToZarr(json_list,\n",
    "    remote_protocol='s3',\n",
    "    remote_options={'anon':True},\n",
    "    concat_dims=['valid_time'])\n",
    "\n",
    "d = mzz.translate()\n",
    "\n",
    "backend_args = {\"consolidated\": False, \"storage_options\": {\"fo\": d}, \"consolidated\": False}\n",
    "\n",
    "ds = xarray.open_dataset(\"reference://\", engine=\"zarr\", backend_kwargs=backend_args)"
   ]
  },
  {
   "cell_type": "code",
   "execution_count": null,
   "id": "7cb3118a-face-4617-8367-826d08e5445b",
   "metadata": {
    "tags": []
   },
   "outputs": [],
   "source": [
    "ds"
   ]
  },
  {
   "cell_type": "code",
   "execution_count": null,
   "id": "700e2d80-3ccd-495a-aeee-d8d2e1773dd9",
   "metadata": {
    "tags": []
   },
   "outputs": [],
   "source": [
    "ds.valid_time"
   ]
  },
  {
   "cell_type": "markdown",
   "id": "b897acbc-6840-4d14-b92e-0cb99532d8fe",
   "metadata": {},
   "source": [
    "Use SQUEEZE function to remove the Time dimension that has a size of 1 ."
   ]
  },
  {
   "cell_type": "code",
   "execution_count": null,
   "id": "20f1967d-00b4-41c9-bcc1-a9ed178f210e",
   "metadata": {
    "tags": []
   },
   "outputs": [],
   "source": [
    "ds = ds.squeeze(dim='Time')"
   ]
  },
  {
   "cell_type": "code",
   "execution_count": null,
   "id": "bb1ab4d2-f3b2-485d-984f-f6533549f165",
   "metadata": {
    "tags": []
   },
   "outputs": [],
   "source": [
    "ds"
   ]
  },
  {
   "cell_type": "markdown",
   "id": "284de216-bdc9-4cd2-8708-d42ef73f42f3",
   "metadata": {},
   "source": [
    "## Add spatial metadata to the dataset \n"
   ]
  },
  {
   "cell_type": "markdown",
   "id": "b63e005f-0a63-41e7-b9e4-f6d21a3fcec8",
   "metadata": {},
   "source": [
    "Load the metadata dataset using `xarray` and add spatial metadata to it."
   ]
  },
  {
   "cell_type": "code",
   "execution_count": null,
   "id": "e60ebd2d-86c4-4551-9f68-1441d5b108c8",
   "metadata": {
    "tags": []
   },
   "outputs": [],
   "source": [
    "ds_meta = xarray.open_dataset('http://thredds.hydroshare.org/thredds/dodsC/hydroshare/resources/2a8a3566e1c84b8eb3871f30841a3855/data/contents/WRF_Hydro_NWM_geospatial_data_template_land_GIS.nc')\n",
    "\n",
    "leny = len(ds_meta.y)\n",
    "x = ds_meta.x.values\n",
    "y = ds_meta.y.values\n",
    "\n",
    "ds = ds.rename({'valid_time': 'time', 'south_north':'y', 'west_east':'x'})\n",
    "#ds.rename_dims(south_north='y', west_east='x', valid_time='time')\n",
    "\n",
    "X, Y = numpy.meshgrid(x, y)\n",
    "\n",
    "# define the input crs\n",
    "wrf_proj = pyproj.Proj(proj='lcc',\n",
    "                       lat_1=30.,\n",
    "                       lat_2=60., \n",
    "                       lat_0=40.0000076293945, lon_0=-97., # Center point\n",
    "                       a=6370000, b=6370000)\n",
    "\n",
    "# define the output crs\n",
    "wgs_proj = pyproj.Proj(proj='latlong', datum='WGS84')\n",
    "\n",
    "# transform X, Y into Lat, Lon\n",
    "transformer = pyproj.Transformer.from_crs(wrf_proj.crs, wgs_proj.crs)\n",
    "lon, lat = transformer.transform(X, Y)\n",
    "\n",
    "ds = ds.assign_coords(lon = (['y', 'x'], lon))\n",
    "ds = ds.assign_coords(lat = (['y', 'x'], lat))\n",
    "ds = ds.assign_coords(x = x)\n",
    "ds = ds.assign_coords(y = y)\n",
    "\n",
    "ds.x.attrs['axis'] = 'X'\n",
    "ds.x.attrs['standard_name'] = 'projection_x_coordinate'\n",
    "ds.x.attrs['long_name'] = 'x-coordinate in projected coordinate system'\n",
    "ds.x.attrs['resolution'] = 1000.  # cell size\n",
    "\n",
    "ds.y.attrs['axis'] = 'Y' \n",
    "ds.y.attrs['standard_name'] = 'projection_y_coordinate'\n",
    "ds.y.attrs['long_name'] = 'y-coordinate in projected coordinate system'\n",
    "ds.y.attrs['resolution'] = 1000.  # cell size\n",
    "\n",
    "ds.lon.attrs['units'] = 'degrees_east'\n",
    "ds.lon.attrs['standard_name'] = 'longitude' \n",
    "ds.lon.attrs['long_name'] = 'longitude'\n",
    "\n",
    "ds.lat.attrs['units'] = 'degrees_north'\n",
    "ds.lat.attrs['standard_name'] = 'latitude' \n",
    "ds.lat.attrs['long_name'] = 'latitude'\n",
    "\n",
    "# add crs to netcdf file\n",
    "ds.rio.write_crs(ds_meta.crs.attrs['spatial_ref'], inplace=True\n",
    "                ).rio.set_spatial_dims(x_dim=\"x\",\n",
    "                                       y_dim=\"y\",\n",
    "                                       inplace=True,\n",
    "                                       ).rio.write_coordinate_system(inplace=True);\n"
   ]
  },
  {
   "cell_type": "code",
   "execution_count": null,
   "id": "007ef8c2-c4a1-49a5-8e53-f4b6f236b492",
   "metadata": {
    "tags": []
   },
   "outputs": [],
   "source": [
    "ds"
   ]
  },
  {
   "cell_type": "markdown",
   "id": "b815a1c7-15d2-41e8-bf7b-349809ac9c8c",
   "metadata": {},
   "source": [
    "## Add spatial reference to the model domain"
   ]
  },
  {
   "cell_type": "markdown",
   "id": "1ff03fee-5f8b-40ab-a472-382416f5f8de",
   "metadata": {},
   "source": [
    "Load the geodatabase of our `ngen` domain. This can be obtained using the `ngen-hydrofabric-subset.ipynb` notebook."
   ]
  },
  {
   "cell_type": "code",
   "execution_count": null,
   "id": "2885ec72-55e8-4cd2-a0ab-a83071d23696",
   "metadata": {
    "tags": []
   },
   "outputs": [],
   "source": [
    "# prepare geometries for spatial averaging\n",
    "gdf = geopandas.read_file(f'{wb_id}/config/{wb_id.split(\"_\")[0]}_upstream_subset.gpkg', layer='divides')\n",
    "\n",
    "gdf['geometry'].values"
   ]
  },
  {
   "cell_type": "code",
   "execution_count": null,
   "id": "cb30bfdb-ad24-45ce-84e1-f2b032637357",
   "metadata": {
    "tags": []
   },
   "outputs": [],
   "source": [
    "# convert these data into the projection of our forcing data\n",
    "target_crs = pyproj.Proj(proj='lcc',\n",
    "                       lat_1=30.,\n",
    "                       lat_2=60., \n",
    "                       lat_0=40.0000076293945, lon_0=-97., # Center point\n",
    "                       a=6370000, b=6370000) \n",
    "\n",
    "gdf = gdf.to_crs(target_crs.crs)\n",
    "\n",
    "gdf['geometry'].values"
   ]
  },
  {
   "cell_type": "code",
   "execution_count": null,
   "id": "e8689fd4-be98-40f5-8da8-d37706beaed3",
   "metadata": {
    "tags": []
   },
   "outputs": [],
   "source": [
    "# important step\n",
    "# rechunk the dataset to solve the memory limit issue\n",
    "ds = ds.chunk(chunks={'time': 1})"
   ]
  },
  {
   "cell_type": "markdown",
   "id": "5c042ce2-f0d9-42be-8e16-82f280a77add",
   "metadata": {},
   "source": [
    "## Clip AORC to the extent of the subset hydrofabric geometries"
   ]
  },
  {
   "cell_type": "markdown",
   "id": "23683e7a-eff0-43cc-ab87-a470ad60cb5b",
   "metadata": {},
   "source": [
    "Add catchment ids to the geodataset. These will be used to perform zonal statistics later on."
   ]
  },
  {
   "cell_type": "code",
   "execution_count": null,
   "id": "af7a7efb-fd65-4bf2-8021-2e411a1c7ee0",
   "metadata": {
    "tags": []
   },
   "outputs": [],
   "source": [
    "%%time\n",
    "\n",
    "# create zonal id column\n",
    "gdf['cat'] = gdf.id.str.split('-').str[-1].astype(int)\n",
    "\n",
    "# clip AORC to the extent of the hydrofabric geometries\n",
    "ds = ds.rio.clip(gdf.geometry.values,\n",
    "                 gdf.crs,\n",
    "                 drop=True,\n",
    "                 invert=False, from_disk=True)\n",
    "\n",
    "# select a single array of data to use as a template\n",
    "lwdown_data = ds.isel(time=0).LWDOWN\n",
    "\n",
    "# create a grid for the geocube\n",
    "out_grid = make_geocube(\n",
    "    vector_data=gdf,\n",
    "    measurements=[\"cat\"],\n",
    "    like=ds # ensure the data are on the same grid\n",
    ")\n",
    "\n",
    "# add the catchment variable to the original dataset\n",
    "ds = ds.assign_coords(cat = (['y','x'], out_grid.cat.data))\n",
    "\n",
    "# compute the unique catchment IDs which will be used to compute zonal statistics\n",
    "catchment_ids = numpy.unique(ds.cat.data[~numpy.isnan(ds.cat.data)])\n",
    "\n",
    "print(f'The dataset contains {len(catchment_ids)} catchments')"
   ]
  },
  {
   "cell_type": "code",
   "execution_count": null,
   "id": "53ac5442-7dd8-4bbc-a1c9-19f73de10677",
   "metadata": {
    "tags": []
   },
   "outputs": [],
   "source": [
    "ds"
   ]
  },
  {
   "cell_type": "markdown",
   "id": "ee4bb7c3-2560-4b60-8fad-b7b6dea00dbb",
   "metadata": {},
   "source": [
    "## Preview the gridded catchments over the watershed vector boundary"
   ]
  },
  {
   "cell_type": "markdown",
   "id": "bc640d57-4735-4fb7-9459-e9b997413f65",
   "metadata": {},
   "source": [
    "Note that the method we're using will associate grid cell with the watershed that it overlaps the most with. There are more advanced ways to create a mapping using various interpolation methods that will distribute values cells across all watershed boundaries that they intersect with. This is left as a future exercize. "
   ]
  },
  {
   "cell_type": "code",
   "execution_count": null,
   "id": "fea60035-4514-4c13-9f35-b4936bd27405",
   "metadata": {
    "tags": []
   },
   "outputs": [],
   "source": [
    "figure, ax = plt.subplots(figsize=(10,7))\n",
    "\n",
    "\n",
    "# plot the gridded catchment mapping\n",
    "ds.cat.plot()\n",
    "\n",
    "## create a discrete color mapping such that each catchment \n",
    "## is represented by a single color\n",
    "# cmap = colors.ListedColormap(['green', 'lightskyblue', 'cyan', 'red', 'navy'])\n",
    "# bounds = [catchment_ids[0]] + [c+0.9 for c in catchment_ids]\n",
    "# norm = colors.BoundaryNorm(bounds, cmap.N)\n",
    "# ds.cat.plot(cmap=cmap, norm=norm, ax=ax)\n",
    "\n",
    "# preview map geometries\n",
    "gdf.iloc[:].plot(ax=ax, linewidth=2, edgecolor='k', facecolor='None');\n"
   ]
  },
  {
   "cell_type": "markdown",
   "id": "3d63e278-0a9e-4256-aaab-dd64bc4e1eaf",
   "metadata": {},
   "source": [
    "## Compute basin-averaged forcing data"
   ]
  },
  {
   "cell_type": "markdown",
   "id": "30dcaeb1-1cfa-4384-891f-af04e6adfe07",
   "metadata": {},
   "source": [
    "Define functions that will be used to perform basin averages on the AORC data. These functions leverage `dask` to parallelize the computation."
   ]
  },
  {
   "cell_type": "code",
   "execution_count": null,
   "id": "1288b205-9592-42c5-9cf4-af72389485ec",
   "metadata": {
    "tags": []
   },
   "outputs": [],
   "source": [
    "# call once per catchment\n",
    "# distribute zonal stats to sub processes\n",
    "def perform_zonal_computation(ds, cat_id):\n",
    "\n",
    "    # subset by catchment id\n",
    "    ds_catchment = ds.where(ds.cat==cat_id, drop=True)\n",
    "#    ds_catchement_future = client.scatter(ds_catchment, broadcast=True)\n",
    "    \n",
    "    delayed = []\n",
    "    # loop over variables   \n",
    "    for variable in ['LWDOWN', 'PSFC',\n",
    "                     'Q2D', 'RAINRATE', 'SWDOWN',\n",
    "                     'T2D', 'U2D', 'V2D']:\n",
    "                \n",
    "        delay = dask.delayed(compute_zonal_mean)(ds_catchment[variable], variable)\n",
    "        delayed.append(delay)\n",
    "        \n",
    "    res = dask.compute(*delayed)\n",
    "    \n",
    "    # combine outputs (list of dicts) into a single dict.\n",
    "    res = {k: v for d in res for k, v in d.items()}\n",
    "    \n",
    "    # return results\n",
    "    return {f'cat-{int(cat_id)}': res}\n",
    "\n",
    "def compute_zonal_mean(ds, variable):\n",
    "    return {variable: ds.mean(dim=['x','y']).values}"
   ]
  },
  {
   "cell_type": "markdown",
   "id": "d6b37b00-c7a2-4bb9-9373-812e43efd609",
   "metadata": {},
   "source": [
    "Slice the data to the temporal period of our choice."
   ]
  },
  {
   "cell_type": "code",
   "execution_count": null,
   "id": "8cc8e149-1eb2-43a5-9888-23405975c879",
   "metadata": {
    "tags": []
   },
   "outputs": [],
   "source": [
    "# define the start and end time of the data we want to use\n",
    "start_time = f'{year}-01-01 00:00'\n",
    "end_time = f'{year}-01-10 00:00'\n",
    "\n",
    "# isolate the desired time period of our data\n",
    "ds_subset = ds.sortby('time').sel(time=slice(start_time, end_time))\n",
    "\n",
    "print(f'The dataset contains {len(ds_subset.time)} timesteps')"
   ]
  },
  {
   "cell_type": "markdown",
   "id": "9c369b39-3fef-4c1d-b3bd-92756ec56fdd",
   "metadata": {},
   "source": [
    "Let's rechunk our data now that we have many fewer elements."
   ]
  },
  {
   "cell_type": "code",
   "execution_count": null,
   "id": "528d524d-4cf7-447b-8734-495524b6048c",
   "metadata": {
    "tags": []
   },
   "outputs": [],
   "source": [
    "ds_subset = ds_subset.chunk(chunks={'time': 1000})"
   ]
  },
  {
   "cell_type": "code",
   "execution_count": null,
   "id": "cc148297-8733-4bff-b718-e164e004ae13",
   "metadata": {
    "tags": []
   },
   "outputs": [],
   "source": [
    "ds_subset.chunks"
   ]
  },
  {
   "cell_type": "markdown",
   "id": "9f00fb10-5bf0-4b31-b109-82c5d43796bc",
   "metadata": {},
   "source": [
    "Drop all data that we don't need. The goal here is to make the dataset as small as possible before we start running computations on the data."
   ]
  },
  {
   "cell_type": "code",
   "execution_count": null,
   "id": "b02c6a7c-1ea0-4b00-b27b-5e4d39c315d7",
   "metadata": {
    "tags": []
   },
   "outputs": [],
   "source": [
    "# drop unused coordinates\n",
    "ds_subset = ds_subset.drop(['lat','lon'])"
   ]
  },
  {
   "cell_type": "markdown",
   "id": "5bbf0058-9098-4047-bf38-dab95b5c97ab",
   "metadata": {},
   "source": [
    "Tell `dask` to perform the subsetting computations on the data now. That way when we process the zonal statistics, the entire dataset won't need to be moved around. This will save a considerable amount of processing in future steps time."
   ]
  },
  {
   "cell_type": "code",
   "execution_count": null,
   "id": "02672b33-fbde-4c62-ba6d-26ac501ef2fd",
   "metadata": {
    "tags": []
   },
   "outputs": [],
   "source": [
    "%%time \n",
    "ds_subset = ds_subset.compute()"
   ]
  },
  {
   "cell_type": "code",
   "execution_count": null,
   "id": "beec64d4-b0e1-434a-8cd0-f6e66c7079b4",
   "metadata": {
    "tags": []
   },
   "outputs": [],
   "source": [
    "ds_subset"
   ]
  },
  {
   "cell_type": "markdown",
   "id": "1e025945-b0b2-417e-b82a-5def64a4d5d4",
   "metadata": {},
   "source": [
    "Scatter the dataset to the cluster so all workers will have access to it. This is good practice and especially necessary if working on a large dataset."
   ]
  },
  {
   "cell_type": "code",
   "execution_count": null,
   "id": "756507ed-0cef-4e04-a31b-a16fc11b3ebf",
   "metadata": {
    "tags": []
   },
   "outputs": [],
   "source": [
    "%%time\n",
    "scattered_ds = client.scatter(ds_subset, broadcast=True)"
   ]
  },
  {
   "cell_type": "markdown",
   "id": "adb9bbd0-1ba7-4b04-95b9-94b0ef3c9af4",
   "metadata": {},
   "source": [
    "Build a list of `delayed` tasks. This will not execute the computation."
   ]
  },
  {
   "cell_type": "code",
   "execution_count": null,
   "id": "185b9b62-e48c-420a-b0be-14498b0045dc",
   "metadata": {
    "tags": []
   },
   "outputs": [],
   "source": [
    "%%time\n",
    "delayed = []\n",
    "\n",
    "# loop over each catchment in our domain\n",
    "# create delayed tasks to compute zonal mean\n",
    "for cat_id in catchment_ids:\n",
    "    delay = dask.delayed(perform_zonal_computation)(scattered_ds, cat_id)\n",
    "    delayed.append(delay)"
   ]
  },
  {
   "cell_type": "markdown",
   "id": "00c9bbb0-11ac-4372-a092-d2ff4839aa48",
   "metadata": {},
   "source": [
    "Invoke the computation using `dask.compute`."
   ]
  },
  {
   "cell_type": "code",
   "execution_count": null,
   "id": "08011b8c-01ce-460d-9dfc-26f2730c94f3",
   "metadata": {
    "tags": []
   },
   "outputs": [],
   "source": [
    "%%time \n",
    "\n",
    "# run the computation\n",
    "results = dask.compute(*delayed)"
   ]
  },
  {
   "cell_type": "markdown",
   "id": "0debf776-5ede-4f18-8595-90073448a27a",
   "metadata": {},
   "source": [
    "Save the basin averaged meteorological data in the format expected by `ngen`."
   ]
  },
  {
   "cell_type": "markdown",
   "id": "83002ba7-0a54-41a9-a367-d4ea23b9247b",
   "metadata": {},
   "source": [
    "The summarized AORC variables need to be mapped to the `ngen` model that we'll be using. The following table illustrates the mapping.\n",
    "\n",
    "|AORC Variable Name|NGEN Variable Name|Description|\n",
    "|---|---|---|\n",
    "| LWDOWN   | DLWRF_surface         | Surface downward long-wave radiation flux (W m-2) \n",
    "| PSFC     | PRES_surface          | Surface Pressure (Pa)\n",
    "| Q2D      | SPFH_2maboveground    | 2-m Specific Humidity (kg kg-1)\n",
    "| RAINRATE | ---                   | precipitation_flux (mm s^-1)\n",
    "| SWDOWN   | DSWRF_surface         | Surface downward short-wave radiation flux (W m-2)\n",
    "| T2D      | TMP_2maboveground     | 2-m Air Temperature (K)\n",
    "| U2D      | UGRD_10maboveground   | 10-m U-component of wind (m s-1)\n",
    "| V2D      | VGRD_10maboveground   | 10-m V-component of wind (m s-1)\n",
    "| ---      | APCP_surface          | Surface precipitation (kg/m^2)\n",
    "\n",
    "Note: our `ngen` model is expecting shortwave and longwave radiation at a height of 0 meters above ground whereas the AORC data has values are 2 meters above ground.\n",
    "\n",
    "References: [tshirt_c.h](https://github.com/NOAA-OWP/ngen/blob/f2725dfbb52f3af5083ce927e69733edbf059f57/models/tshirt/include/tshirt_c.h#L52), [sample forcing csv](https://github.com/NOAA-OWP/ngen/blob/master/data/forcing/cat-27_2015-12-01%2000_00_00_2015-12-30%2023_00_00.csv)"
   ]
  },
  {
   "cell_type": "markdown",
   "id": "5d9f0451-a11b-483e-9fbf-0b8e2bb43f89",
   "metadata": {},
   "source": [
    "## Save data as csv files"
   ]
  },
  {
   "cell_type": "code",
   "execution_count": null,
   "id": "b55bbc92-2813-4ec2-9a08-d8ab031a2f4b",
   "metadata": {
    "tags": []
   },
   "outputs": [],
   "source": [
    "\n",
    "# compute the date range for our data using start and end times\n",
    "# that were used in the subsetting process.\n",
    "dates = pandas.date_range(start_time, end_time, freq=\"60min\")\n",
    "\n",
    "# save the zonal means for each catchment\n",
    "for dat in results:\n",
    "    for cat in dat:\n",
    "        df = pandas.DataFrame({k:list(v) for k,v in dat[cat].items()})\n",
    "        df.fillna(0., inplace=True)\n",
    "        \n",
    "        # convert rainrate from mm/s to kg/m2\n",
    "        # mm/s - mm/hr = df.RAINRATE * 3600\n",
    "        # since the timestep is one hour, this is effectively the total rain in mm.\n",
    "        # 1 mm of rainfall is equal to 1kg/m2 so our conversion is:\n",
    "        # NOTE: we should only be considering the fraction of liquid precip which can\n",
    "        #       be computed using LQFRAC. However LQFRAC is zero for our data which \n",
    "        #       does not seem correct, so we'll assume that all precip is liquid. This\n",
    "        #       is something that needs to be revisited.\n",
    "        df['APCP_surface'] = df.RAINRATE * 3600\n",
    "\n",
    "        # rename columns to match the variable names expected by the ngen t-shirt model\n",
    "        df.rename(columns={\n",
    "            'LWDOWN'   : 'DLWRF_surface',\n",
    "            'PSFC'     : 'PRES_surface',\n",
    "            'Q2D'      : 'SPFH_2maboveground',\n",
    "            'SWDOWN'   : 'DSWRF_surface',\n",
    "            'T2D'      : 'TMP_2maboveground',\n",
    "            'U2D'      : 'UGRD_10maboveground',\n",
    "            'V2D'      : 'VGRD_10maboveground',\n",
    "            'RAINRATE' : 'precip_rate',\n",
    "        },\n",
    "                  inplace=True)\n",
    "               \n",
    "        # add the time index\n",
    "        df['time'] = dates\n",
    "        df.set_index('time', inplace=True)\n",
    "\n",
    "\n",
    "        # write to file\n",
    "        with open(f'{wb_id}/forcings/{cat}.csv', 'w') as f:\n",
    "            # Note: saving \"precip_rate\" because this column exists in the example \n",
    "            #       forcing files. It's not clear if this is being used or not.\n",
    "            df.to_csv(f,\n",
    "                      columns = ['APCP_surface',\n",
    "                                 'DLWRF_surface',\n",
    "                                 'DSWRF_surface',\n",
    "                                 'PRES_surface',\n",
    "                                 'SPFH_2maboveground',\n",
    "                                 'TMP_2maboveground',\n",
    "                                 'UGRD_10maboveground',\n",
    "                                 'VGRD_10maboveground',\n",
    "                                 'precip_rate'])\n",
    "            "
   ]
  },
  {
   "cell_type": "code",
   "execution_count": null,
   "id": "aaefb60b-0e94-498f-8787-7568f0262c9e",
   "metadata": {
    "tags": []
   },
   "outputs": [],
   "source": [
    "# check the number of catchments. \n",
    "print(gdf.shape[0])\n",
    "print(len(results))\n",
    "\n",
    "# If these are not equal, run the following code cell."
   ]
  },
  {
   "cell_type": "markdown",
   "id": "cf876139-e5f2-422d-ac23-18d4efb04963",
   "metadata": {},
   "source": [
    "Here is an example showing why some catchments are missing in the results."
   ]
  },
  {
   "cell_type": "markdown",
   "id": "1e70d131-c58c-4637-929e-3c28ac4b872f",
   "metadata": {},
   "source": [
    "<img src=\"./figures/missing_catchment_example.png\">"
   ]
  },
  {
   "cell_type": "code",
   "execution_count": null,
   "id": "f7c14988-7af8-4d77-92d2-92a99c5f33a4",
   "metadata": {
    "tags": []
   },
   "outputs": [],
   "source": [
    "computed_catchments = [list(r.keys())[0] for r in results]\n",
    "for cat_id in gdf['cat'].values:\n",
    "    known_catchment = f'cat-{int(cat_id)}'\n",
    "    if known_catchment not in computed_catchments:\n",
    "        print(f'Creating Synthetic Forcing for {known_catchment}')\n",
    "        synthetic_df = pandas.DataFrame(0, index=df.index, columns=['APCP_surface',\n",
    "                                                                    'DLWRF_surface',\n",
    "                                                                    'PRES_surface',\n",
    "                                                                    'SPFH_2maboveground',\n",
    "                                                                    'DSWRF_surface',\n",
    "                                                                    'TMP_2maboveground',\n",
    "                                                                    'UGRD_10maboveground',\n",
    "                                                                    'VGRD_10maboveground',\n",
    "                                                                    'precip_rate'])\n",
    "        # write to file\n",
    "        with open(f'{wb_id}/forcings/{known_catchment}.csv', 'w') as f:\n",
    "            df.to_csv(f,\n",
    "                      columns = ['APCP_surface',\n",
    "                                 'DLWRF_surface',\n",
    "                                 'DSWRF_surface',\n",
    "                                 'PRES_surface',\n",
    "                                 'SPFH_2maboveground',\n",
    "                                 'TMP_2maboveground',\n",
    "                                 'UGRD_10maboveground',\n",
    "                                 'VGRD_10maboveground',\n",
    "                                 'precip_rate'])\n",
    "            \n",
    "        "
   ]
  }
 ],
 "metadata": {
  "kernelspec": {
   "display_name": "Python 3.9.18 ('assimilation')",
   "language": "python",
   "name": "python3"
  },
  "language_info": {
   "codemirror_mode": {
    "name": "ipython",
    "version": 3
   },
   "file_extension": ".py",
   "mimetype": "text/x-python",
   "name": "python",
   "nbconvert_exporter": "python",
   "pygments_lexer": "ipython3",
   "version": "3.9.18"
  },
  "vscode": {
   "interpreter": {
    "hash": "4bc09726d3eb0feb4d73d3636dad7388c6ae5ba645f208395a639ba59e5d5f59"
   }
  }
 },
 "nbformat": 4,
 "nbformat_minor": 5
}
